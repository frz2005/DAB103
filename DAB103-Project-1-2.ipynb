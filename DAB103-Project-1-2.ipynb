{
 "cells": [
  {
   "cell_type": "markdown",
   "metadata": {},
   "source": [
    "## DAB103-Project-Phase01"
   ]
  },
  {
   "cell_type": "code",
   "execution_count": null,
   "metadata": {},
   "outputs": [],
   "source": [
    "#%pip install dataprep"
   ]
  },
  {
   "cell_type": "code",
   "execution_count": null,
   "metadata": {},
   "outputs": [],
   "source": [
    "#%pip install pandas\n",
    "#%pip install numpy\n",
    "#%pip install seaborn\n",
    "#%pip install matplotlib\n",
    "#%pip install researchpy\n",
    "#%pip install scipy\n",
    "#%pip install statsmodels\n",
    "#%pip install dataprep\n",
    "%pip install missingno"
   ]
  },
  {
   "cell_type": "code",
   "execution_count": null,
   "metadata": {},
   "outputs": [],
   "source": [
    "# importing necessary libraries\n",
    "import pandas as pd\n",
    "import numpy as np\n",
    "import seaborn as sns\n",
    "import matplotlib.pyplot as plt\n",
    "%matplotlib inline\n",
    "import researchpy as rp\n",
    "import scipy.stats as stats\n",
    "import statsmodels.api as sm\n",
    "from statsmodels.formula.api import ols\n",
    "from dataprep.eda import *\n",
    "import plotly.express as px\n",
    "import missingno as msno"
   ]
  },
  {
   "cell_type": "code",
   "execution_count": null,
   "metadata": {},
   "outputs": [],
   "source": [
    "#importing the dataset\n",
    "direct_marketing = pd.read_csv('https://query.data.world/s/lqrsaugj7kwkyazkvydowjuxjrybxx', sep=';')"
   ]
  },
  {
   "cell_type": "code",
   "execution_count": null,
   "metadata": {},
   "outputs": [],
   "source": [
    "# New_Name a dictionary\n",
    "# key = old name\n",
    "# value = new name\n",
    "dict = {'age': 'Age',\n",
    "        'job': 'Job',\n",
    "        'marital': 'Marital',\n",
    "        'education': 'Education',\n",
    "        'default' : 'Credit_default',\n",
    "        'housing': 'Housing_loan',\n",
    "        'loan' : 'Personal_loan',\n",
    "        'contact' : 'Call_type',\n",
    "        'month' : 'Last_month',\n",
    "        'day_of_week': 'Last_weekday',\n",
    "        'duration': 'LastCall_Dur',\n",
    "        'campaign' : 'NewCampaign_CallNo',\n",
    "        'pdays' : 'Campaign_Intervals_Day',\n",
    "        'previous': 'PrevCampaign_CallNo',\n",
    "        'poutcome' : 'PrevCampaign_result',\n",
    "        'y' : 'Campaign_Success'      \n",
    "       }"
   ]
  },
  {
   "cell_type": "code",
   "execution_count": null,
   "metadata": {},
   "outputs": [],
   "source": [
    "# call rename () method\n",
    "direct_marketing.rename(columns=dict, inplace=True)"
   ]
  },
  {
   "cell_type": "code",
   "execution_count": null,
   "metadata": {},
   "outputs": [],
   "source": [
    "# print Data frame\n",
    "direct_marketing.drop(columns= ['emp.var.rate','cons.price.idx', 'cons.conf.idx', 'euribor3m', 'nr.employed'])\n",
    "display(direct_marketing)"
   ]
  },
  {
   "cell_type": "code",
   "execution_count": null,
   "metadata": {},
   "outputs": [],
   "source": [
    "#exploring the dataset\n",
    "type (direct_marketing)\n",
    "direct_marketing.shape\n",
    "direct_marketing.head()\n",
    "direct_marketing.tail()\n",
    "direct_marketing.info()"
   ]
  },
  {
   "cell_type": "code",
   "execution_count": null,
   "metadata": {},
   "outputs": [],
   "source": [
    "#exploring possible missing values \n",
    "#msno.bar(direct_marketing, figsize=(10, 5), fontsize=10, color='#FFC427', labels = True)\n",
    "msno.matrix(direct_marketing, labels = True, fontsize = 10, figsize = (10, 5))\n",
    "plt.title('Number of Missed and Non-missed values in the Datasat')\n",
    "plt.ylabel('Observations')\n",
    "plt.xlabel('Variables')"
   ]
  },
  {
   "cell_type": "markdown",
   "metadata": {},
   "source": [
    "plotting the variables starting with numerical variables using px (plotly_express)\n"
   ]
  },
  {
   "cell_type": "code",
   "execution_count": null,
   "metadata": {},
   "outputs": [],
   "source": [
    "fig1 = px.histogram(direct_marketing[\"Age\"], nbins=24, title='Age Distribution',\n",
    "                   color_discrete_sequence=['#E31737']) #color is based on the theme of the presentation file\n",
    "fig1.update_layout(xaxis_title_text='Age(years)',\n",
    "    bargap=0.05, # gap between bars of adjacent location coordinates\n",
    "    showlegend= False)\n",
    "fig1.show()"
   ]
  },
  {
   "cell_type": "code",
   "execution_count": null,
   "metadata": {},
   "outputs": [],
   "source": [
    "fig2 = px.histogram(direct_marketing['LastCall_Dur'], \n",
    "                    nbins=100, title='Last Call Duration Distribution',\n",
    "                   color_discrete_sequence=['#E31737'])\n",
    "fig2.update_layout(xaxis_title_text='Last Call Duration (seconds)',\n",
    "    bargap=0.05, # gap between bars of adjacent location coordinates\n",
    "    showlegend= False)\n",
    "fig2.show()"
   ]
  },
  {
   "cell_type": "code",
   "execution_count": null,
   "metadata": {},
   "outputs": [],
   "source": [
    "fig3 = px.histogram(direct_marketing['NewCampaign_CallNo'], \n",
    "                    nbins=60, title='Distribution of the times that a client has been contacted',\n",
    "                   color_discrete_sequence=['#E31737'])\n",
    "fig3.update_layout(xaxis_title_text='Frequency of client contact (times)',\n",
    "    bargap=0.05, # gap between bars of adjacent location coordinates\n",
    "    showlegend= False)\n",
    "fig3.show()"
   ]
  },
  {
   "cell_type": "code",
   "execution_count": null,
   "metadata": {},
   "outputs": [],
   "source": [
    "fig4 = px.histogram(direct_marketing['Campaign_Intervals_Day'], \n",
    "                    nbins=60, title='Distribution of the days between the last two campaigns contact with clients',\n",
    "                   color_discrete_sequence=['#E31737'])\n",
    "fig4.update_layout(xaxis_title_text='Interval (days)',\n",
    "    bargap=0.05, # gap between bars of adjacent location coordinates\n",
    "    showlegend= False)\n",
    "fig4.show()"
   ]
  },
  {
   "cell_type": "code",
   "execution_count": null,
   "metadata": {},
   "outputs": [],
   "source": [
    "fig5 = px.histogram(direct_marketing['PrevCampaign_CallNo'], \n",
    "                    nbins=60, title='Distribution of the number of the client calls during the last campign',\n",
    "                   color_discrete_sequence=['#E31737'])\n",
    "fig5.update_layout(xaxis_title_text='Number of times',\n",
    "    bargap=0.05, # gap between bars of adjacent location coordinates\n",
    "    showlegend= False)\n",
    "fig5.show()"
   ]
  },
  {
   "cell_type": "markdown",
   "metadata": {},
   "source": [
    "now starting to plot the categorical variables using plotly_express barchart\n"
   ]
  },
  {
   "cell_type": "code",
   "execution_count": null,
   "metadata": {},
   "outputs": [],
   "source": [
    "dm_job = pd.DataFrame(direct_marketing.groupby(['Job']).size()).reset_index() \n",
    "#creating a dataframe consisting of the variable and its count\n",
    "dm_job = dm_job.rename(columns={0:'Count'}).sort_values('Count') \n",
    "#renaming the column to Count and sorting them"
   ]
  },
  {
   "cell_type": "code",
   "execution_count": null,
   "metadata": {},
   "outputs": [],
   "source": [
    "fig6 = px.bar(dm_job, x='Job', y='Count',\n",
    "              color_discrete_sequence=['#009999'])\n",
    "fig6.update_layout(xaxis_title_text='Jobs',\n",
    "                   yaxis_title_text='Count',\n",
    "                  title_text = 'Clients Jobs')\n",
    "fig6.show()"
   ]
  },
  {
   "cell_type": "code",
   "execution_count": null,
   "metadata": {},
   "outputs": [],
   "source": [
    "dm_Marital = pd.DataFrame(direct_marketing.groupby(['Marital']).size()).reset_index() \n",
    "#creating a dataframe consisting of the variable and its count\n",
    "dm_Marital = dm_Marital.rename(columns={0:'Count'}).sort_values('Count') \n",
    "#renaming the column to Count and sorting them"
   ]
  },
  {
   "cell_type": "code",
   "execution_count": null,
   "metadata": {},
   "outputs": [],
   "source": [
    "fig7 = px.bar(dm_Marital, x='Marital', y='Count',\n",
    "              color_discrete_sequence=['#009999'])\n",
    "fig7.update_layout(xaxis_title_text='Marital statuses of clients',\n",
    "                   yaxis_title_text='Count',\n",
    "                  title_text = 'Marital Status')\n",
    "fig7.show()"
   ]
  },
  {
   "cell_type": "code",
   "execution_count": null,
   "metadata": {},
   "outputs": [],
   "source": [
    "dm_Education = pd.DataFrame(direct_marketing.groupby(['Education']).size()).reset_index() \n",
    "#creating a dataframe consisting of the variable and its count\n",
    "dm_Education = dm_Education.rename(columns={0:'Count'}).sort_values('Count') \n",
    "#renaming the column to Count and sorting them"
   ]
  },
  {
   "cell_type": "code",
   "execution_count": null,
   "metadata": {},
   "outputs": [],
   "source": [
    "fig8 = px.bar(dm_Education, x='Education', y='Count',\n",
    "              color_discrete_sequence=['#009999'])\n",
    "fig8.update_layout(xaxis_title_text='Education statuses of clients',\n",
    "                   yaxis_title_text='Count',\n",
    "                  title_text = 'Education Status')\n",
    "fig8.show()"
   ]
  },
  {
   "cell_type": "code",
   "execution_count": null,
   "metadata": {},
   "outputs": [],
   "source": [
    "dm_Credit = pd.DataFrame(direct_marketing.groupby(['Credit_default']).size()).reset_index() \n",
    "#creating a dataframe consisting of the variable and its count\n",
    "dm_Credit = dm_Credit.rename(columns={0:'Count'}).sort_values('Count') \n",
    "#renaming the column to Count and sorting them"
   ]
  },
  {
   "cell_type": "code",
   "execution_count": null,
   "metadata": {},
   "outputs": [],
   "source": [
    "fig9 = px.bar(dm_Credit, x='Credit_default', y='Count',\n",
    "              color_discrete_sequence=['#009999'])\n",
    "fig9.update_layout(xaxis_title_text='Default credit history of clients',\n",
    "                   yaxis_title_text='Count',\n",
    "                  title_text = 'Default credit')\n",
    "fig9.show()"
   ]
  },
  {
   "cell_type": "code",
   "execution_count": null,
   "metadata": {},
   "outputs": [],
   "source": [
    "dm_Housing_loan = pd.DataFrame(direct_marketing.groupby(['Housing_loan']).size()).reset_index() \n",
    "#creating a dataframe consisting of the variable and its count\n",
    "dm_Housing_loan = dm_Housing_loan.rename(columns={0:'Count'}).sort_values('Count') \n",
    "#renaming the column to Count and sorting them"
   ]
  },
  {
   "cell_type": "code",
   "execution_count": null,
   "metadata": {},
   "outputs": [],
   "source": [
    "fig10 = px.bar(dm_Housing_loan, x='Housing_loan', y='Count',\n",
    "              color_discrete_sequence=['#009999'])\n",
    "fig10.update_layout(xaxis_title_text='Active house loan status of clients',\n",
    "                   yaxis_title_text='Count',\n",
    "                  title_text = 'Active house loan status')\n",
    "fig10.show()"
   ]
  },
  {
   "cell_type": "code",
   "execution_count": null,
   "metadata": {},
   "outputs": [],
   "source": [
    "dm_Personal_loan = pd.DataFrame(direct_marketing.groupby(['Personal_loan']).size()).reset_index() \n",
    "#creating a dataframe consisting of the variable and its count\n",
    "dm_Personal_loan = dm_Personal_loan.rename(columns={0:'Count'}).sort_values('Count') \n",
    "#renaming the column to Count and sorting them"
   ]
  },
  {
   "cell_type": "code",
   "execution_count": null,
   "metadata": {},
   "outputs": [],
   "source": [
    "fig11 = px.bar(dm_Personal_loan, x='Personal_loan', y='Count',\n",
    "              color_discrete_sequence=['#009999'])\n",
    "fig11.update_layout(xaxis_title_text='Active personal loan status of clients',\n",
    "                   yaxis_title_text='Count',\n",
    "                  title_text = 'Active personal loan status')\n",
    "fig11.show()"
   ]
  },
  {
   "cell_type": "code",
   "execution_count": null,
   "metadata": {},
   "outputs": [],
   "source": [
    "dm_Call_type = pd.DataFrame(direct_marketing.groupby(['Call_type']).size()).reset_index() \n",
    "#creating a dataframe consisting of the variable and its count\n",
    "dm_Call_type = dm_Call_type.rename(columns={0:'Count'}).sort_values('Count') \n",
    "#renaming the column to Count and sorting them"
   ]
  },
  {
   "cell_type": "code",
   "execution_count": null,
   "metadata": {},
   "outputs": [],
   "source": [
    "fig12 = px.bar(dm_Call_type, x='Call_type', y='Count',\n",
    "              color_discrete_sequence=['#009999'])\n",
    "fig12.update_layout(xaxis_title_text='Clients device type',\n",
    "                   yaxis_title_text='Count',\n",
    "                  title_text = 'Clients device type')\n",
    "fig12.show()"
   ]
  },
  {
   "cell_type": "code",
   "execution_count": null,
   "metadata": {},
   "outputs": [],
   "source": [
    "dm_Last_month = pd.DataFrame(direct_marketing.groupby(['Last_month']).size()).reset_index() \n",
    "#creating a dataframe consisting of the variable and its count\n",
    "dm_Last_month = dm_Last_month.rename(columns={0:'Count'}).sort_values('Count') \n",
    "#renaming the column to Count and sorting them"
   ]
  },
  {
   "cell_type": "code",
   "execution_count": null,
   "metadata": {},
   "outputs": [],
   "source": [
    "fig13 = px.bar(dm_Last_month, x='Last_month', y='Count',\n",
    "              color_discrete_sequence=['#009999'])\n",
    "fig13.update_layout(xaxis_title_text='Months of the last call of the Client',\n",
    "                   yaxis_title_text='Count',\n",
    "                  title_text = 'Last month')\n",
    "fig13.show()"
   ]
  },
  {
   "cell_type": "code",
   "execution_count": null,
   "metadata": {},
   "outputs": [],
   "source": [
    "dm_Last_weekday = pd.DataFrame(direct_marketing.groupby(['Last_weekday']).size()).reset_index() \n",
    "#creating a dataframe consisting of the variable and its count\n",
    "dm_Last_weekday = dm_Last_weekday.rename(columns={0:'Count'}).sort_values('Count') \n",
    "#renaming the column to Count and sorting them"
   ]
  },
  {
   "cell_type": "code",
   "execution_count": null,
   "metadata": {},
   "outputs": [],
   "source": [
    "fig14 = px.bar(dm_Last_weekday, x='Last_weekday', y='Count',\n",
    "              color_discrete_sequence=['#009999'])\n",
    "fig14.update_layout(xaxis_title_text='Week day of the last call of the Client',\n",
    "                   yaxis_title_text='Count',\n",
    "                  title_text = 'Last weekday')\n",
    "fig14.show()"
   ]
  },
  {
   "cell_type": "code",
   "execution_count": null,
   "metadata": {},
   "outputs": [],
   "source": [
    "dm_PrCampaign_Result = pd.DataFrame(direct_marketing.groupby(['PrevCampaign_result']).size()).reset_index() \n",
    "#creating a dataframe consisting of the variable and its count\n",
    "dm_PrCampaign_Result = dm_PrCampaign_Result.rename(columns={0:'Count'}).sort_values('Count') \n",
    "#renaming the column to Count and sorting them"
   ]
  },
  {
   "cell_type": "code",
   "execution_count": null,
   "metadata": {},
   "outputs": [],
   "source": [
    "fig15 = px.bar(dm_PrCampaign_Result, x='PrevCampaign_result', y='Count',\n",
    "              color_discrete_sequence=['#009999'])\n",
    "fig15.update_layout(xaxis_title_text='Previous campaign result of the contact with clients',\n",
    "                   yaxis_title_text='Count',\n",
    "                  title_text = 'The result of the previous campaign')\n",
    "fig15.show()"
   ]
  },
  {
   "cell_type": "code",
   "execution_count": null,
   "metadata": {},
   "outputs": [],
   "source": [
    "dm_Campaign_Success = pd.DataFrame(direct_marketing.groupby(['Campaign_Success']).size()).reset_index() \n",
    "#creating a dataframe consisting of the variable and its count\n",
    "dm_Campaign_Success = dm_Campaign_Success.rename(columns={0:'Count'}).sort_values('Count') \n",
    "#renaming the column to Count and sorting them"
   ]
  },
  {
   "cell_type": "code",
   "execution_count": null,
   "metadata": {},
   "outputs": [],
   "source": [
    "fig16 = px.bar(dm_Campaign_Success, x='Campaign_Success', y='Count',\n",
    "              color_discrete_sequence=['#009999'])\n",
    "fig16.update_layout(xaxis_title_text='The success for this campaign',\n",
    "                   yaxis_title_text='Count',\n",
    "                  title_text = 'The success status for the campaign')\n",
    "fig16.show()"
   ]
  },
  {
   "cell_type": "markdown",
   "metadata": {},
   "source": [
    "## DAB103-Project-Phase02"
   ]
  },
  {
   "cell_type": "code",
   "execution_count": null,
   "metadata": {},
   "outputs": [],
   "source": []
  },
  {
   "cell_type": "code",
   "execution_count": null,
   "metadata": {},
   "outputs": [],
   "source": [
    "#calculating percentage of yes and no in 'Campaign_Success' variable in marital segments \n",
    "dm_marital_perc = pd.DataFrame(direct_marketing.groupby(['Marital','Campaign_Success']).size())\n",
    "dm_marital_perc = 100 * dm_marital_perc/dm_marital_perc.groupby(level=0).sum()\n",
    "dm_marital_perc = dm_marital_perc.rename(columns={0:'Percent'}).reset_index() \n",
    "#if reset_index() is not used, then 'Marital' becomes index and plot can not be drawn\n",
    "dm_marital_perc = pd.DataFrame(dm_marital_perc)\n",
    "dm_marital_perc"
   ]
  },
  {
   "cell_type": "code",
   "execution_count": null,
   "metadata": {},
   "outputs": [],
   "source": [
    "#testing sns.catplot for next plots\n",
    "sns.catplot(data=dm_marital_perc,kind='bar',x='Marital' ,hue='Campaign_Success', y = 'Percent').set_titles(\"{col_name}\")"
   ]
  },
  {
   "cell_type": "code",
   "execution_count": null,
   "metadata": {},
   "outputs": [],
   "source": [
    "# assigning an age group to each person based on his/her age\n",
    "age_ranges = [15,30,45,65,100]\n",
    "age_labels = ['Young','Adult','Mid-aged','Senior']\n",
    "direct_marketing['Age_Group'] = pd.cut(direct_marketing['Age'], bins=age_ranges, labels=age_labels, right=False)\n"
   ]
  },
  {
   "cell_type": "code",
   "execution_count": null,
   "metadata": {
    "scrolled": false
   },
   "outputs": [],
   "source": [
    "# adding all categorical variables into a list except the result variable, Campaign_Success\n",
    "cat_var = [\"Job\", \"Education\", \"Marital\", \"Credit_default\", \"Housing_loan\", \"Personal_loan\",\n",
    "            \"Last_month\", \"Last_weekday\", \"Call_type\" , \"PrevCampaign_result\", \"Age_Group\" ]\n",
    "# the average success rate among targeted clients in this campaign was 11.625%\n",
    "average_success_rate = 11.625\n",
    "# plots colors according to the presentation palette\n",
    "plot_colors = ['#E31737','#009999']\n",
    "# repeating the percentage  plot for all categorical variables of the data frame\n",
    "for i in cat_var:\n",
    "    dm_perc = pd.DataFrame(direct_marketing.groupby([cat_var[cat_var.index(i)],'Campaign_Success']).size())\n",
    "    dm_perc = 100 * dm_perc/dm_perc.groupby(level=0).sum()\n",
    "    dm_perc = dm_perc.rename(columns={0:'Percent'}).reset_index()\n",
    "    dm_perc = pd.DataFrame(dm_perc) #transforming dataframe to pecentage of campaign_success rate in each category\n",
    "    sns.set_palette(sns.color_palette(plot_colors)) #using theme colors in plots\n",
    "    g = sns.catplot(data=dm_perc,kind='bar',x=cat_var[cat_var.index(i)] ,\n",
    "                    hue='Campaign_Success',y = 'Percent',\n",
    "                   legend_out = False)\n",
    "    g.map(plt.axhline, y=average_success_rate, lw = 2.5, ls='--', c='#8497B0') #plotting the horizontal line of overall success rate\n",
    "    plt.title(\"Success rate in campaign according to {} status\".format(cat_var[cat_var.index(i)]))\n",
    "    plt.xlabel(\"{} status\".format(cat_var[cat_var.index(i)]))\n",
    "    plt.ylabel('Percent')\n",
    "    plt.legend(bbox_to_anchor = (1.01,0.7), title = 'Campaign Success')\n",
    "    plt.xticks(rotation=45)\n",
    "    \n"
   ]
  },
  {
   "cell_type": "code",
   "execution_count": null,
   "metadata": {},
   "outputs": [],
   "source": [
    "#this figure is plotted after creating age groups based on age variable\n",
    "dm_Age_Group = pd.DataFrame(direct_marketing.groupby(['Age_Group']).size()).reset_index() \n",
    "#creating a dataframe consisting of the variable and its count\n",
    "dm_Age_Group = dm_Age_Group.rename(columns={0:'Count'}).sort_values('Count') \n",
    "#renaming the column to Count and sorting them"
   ]
  },
  {
   "cell_type": "code",
   "execution_count": null,
   "metadata": {},
   "outputs": [],
   "source": [
    "#this figure is plotted after creating age groups based on age variable\n",
    "fig17 = px.bar(dm_Age_Group, x='Age_Group', y='Count',\n",
    "              color_discrete_sequence=['#009999'])\n",
    "fig17.update_layout(xaxis_title_text='Age Group',\n",
    "                   yaxis_title_text='Count',\n",
    "                  title_text = 'The age group status for the campaign')\n",
    "fig17.show()"
   ]
  },
  {
   "cell_type": "code",
   "execution_count": null,
   "metadata": {},
   "outputs": [],
   "source": [
    "direct_marketing.head()"
   ]
  },
  {
   "cell_type": "code",
   "execution_count": null,
   "metadata": {},
   "outputs": [],
   "source": [
    "# exploring success rates in different categories of the categorical variables\n",
    "\n",
    "sns.countplot(x = \"Age_Group\", hue = \"Campaign_Success\", data = direct_marketing)\n",
    "\n",
    "plt.show()\n"
   ]
  },
  {
   "cell_type": "code",
   "execution_count": null,
   "metadata": {},
   "outputs": [],
   "source": [
    "sns.catplot(x=\"Marital\", hue=\"Campaign_Success\", col=\"Age_Group\",\n",
    "                data=direct_marketing, kind=\"count\")"
   ]
  },
  {
   "cell_type": "code",
   "execution_count": null,
   "metadata": {
    "scrolled": true
   },
   "outputs": [],
   "source": [
    "# repeating the percentage  plot for all categorical variables of the data frame\n",
    "for i , j in enumerate(cat_var):\n",
    "    for k , l in enumerate(cat_var) :\n",
    "        if i == k:\n",
    "            pass\n",
    "        else:\n",
    "            dm_perc = pd.DataFrame(direct_marketing.groupby([cat_var[k], cat_var[i],'Campaign_Success']).size())\n",
    "            dm_perc = 100 * (dm_perc/dm_perc.groupby(level=1).sum())/(dm_perc/dm_perc.groupby(level=0).sum())\n",
    "            dm_perc = dm_perc.rename(columns={0:'Percent'}).reset_index()\n",
    "            dm_perc = pd.DataFrame(dm_perc)\n",
    "            g = sns.catplot(data=dm_perc,kind='bar',x=cat_var[i] ,\n",
    "                            hue='Campaign_Success', y = 'Percent', col = cat_var[k])\n",
    "            g.set_xticklabels(rotation=45)\n",
    "            g.map(plt.axhline, y=11.265/dm_perc[cat_var[i]].nunique(), ls='--', c='red')"
   ]
  },
  {
   "cell_type": "code",
   "execution_count": null,
   "metadata": {},
   "outputs": [],
   "source": [
    "#dropping unnecessary variables\n",
    "direct_marketing = direct_marketing.drop(columns= ['emp.var.rate','cons.price.idx', 'cons.conf.idx', 'euribor3m', 'nr.employed']) \n",
    "direct_marketing.head(1)"
   ]
  },
  {
   "cell_type": "code",
   "execution_count": null,
   "metadata": {},
   "outputs": [],
   "source": [
    "# creating a list consisting numerical variables\n",
    "num_var = ['PrevCampaign_CallNo', 'NewCampaign_CallNo', 'LastCall_Dur']   "
   ]
  },
  {
   "cell_type": "code",
   "execution_count": null,
   "metadata": {},
   "outputs": [],
   "source": [
    "#plotting the NewCampaign_CallNo variable in a bloxplot\n",
    "from matplotlib.ticker import MaxNLocator\n",
    "#setting 1st and 3rd quartiles and calculating IQR\n",
    "Q1 = direct_marketing['NewCampaign_CallNo'].quantile(0.25)\n",
    "Q3 = direct_marketing['NewCampaign_CallNo'].quantile(0.75)\n",
    "IQR = Q3 - Q1\n",
    "#calculating whiskers\n",
    "whis_low = (Q1 - 1.5 * IQR)\n",
    "whis_high = (Q3 + 1.5 * IQR)\n",
    "#filtering the outliers\n",
    "direct_marketing_NewCampaign = direct_marketing.loc[direct_marketing['NewCampaign_CallNo']\n",
    "                                                           > whis_low]\n",
    "direct_marketing_NewCampaign = direct_marketing_NewCampaign.loc[direct_marketing_NewCampaign['NewCampaign_CallNo']\n",
    "                                                                < whis_high]\n",
    "h = sns.boxplot(x='Campaign_Success', y='NewCampaign_CallNo',\n",
    "            hue='Campaign_Success',\n",
    "            data=direct_marketing_NewCampaign)\n",
    "#setting y axis values to be integers using imported MaxNLocator\n",
    "h.yaxis.set_major_locator(MaxNLocator(integer = True))\n",
    "#setting titles and legend\n",
    "plt.title('Result in campaign according to number of calls made to the client')\n",
    "plt.xlabel('Campaign Success')\n",
    "plt.ylabel('Number of calls')\n",
    "plt.legend(bbox_to_anchor = (1.5,0.7), title = 'Campaign Success')   "
   ]
  },
  {
   "cell_type": "code",
   "execution_count": null,
   "metadata": {},
   "outputs": [],
   "source": [
    "#new distribution of \"NewCampaign_CallNo\" variable\n",
    "fig3_2 = px.histogram(direct_marketing_NewCampaign['NewCampaign_CallNo'], \n",
    "                    nbins=10, title='Distribution of the times that a client has been contacted',\n",
    "                   color_discrete_sequence=['#E31737'])\n",
    "fig3_2.update_layout(xaxis_title_text='Frequency of client contact (times)',\n",
    "    bargap=0.05, # gap between bars of adjacent location coordinates\n",
    "    showlegend= False)\n",
    "fig3_2.show()"
   ]
  },
  {
   "cell_type": "code",
   "execution_count": null,
   "metadata": {},
   "outputs": [],
   "source": [
    "#plotting the LastCall_Dur variable in a bloxplot after data cleaning\n",
    "from matplotlib.ticker import MaxNLocator\n",
    "#setting 1st and 3rd quartiles and calculating IQR\n",
    "Q1 = direct_marketing['LastCall_Dur'].quantile(0.25)\n",
    "Q3 = direct_marketing['LastCall_Dur'].quantile(0.75)\n",
    "IQR = Q3 - Q1\n",
    "#calculating whiskers\n",
    "whis_low = (Q1 - 1.5 * IQR)\n",
    "whis_high = (Q3 + 1.5 * IQR)\n",
    "#filtering the outliers\n",
    "direct_marketing_LastCall_Dur = direct_marketing.loc[direct_marketing['LastCall_Dur'] > whis_low]\n",
    "direct_marketing_LastCall_Dur = direct_marketing_LastCall_Dur.loc[direct_marketing_LastCall_Dur['LastCall_Dur'] < whis_high]\n",
    "h = sns.boxplot(x='Campaign_Success', y='LastCall_Dur',\n",
    "            hue='Campaign_Success',\n",
    "            data=direct_marketing_LastCall_Dur)\n",
    "#setting y axis values to be integers\n",
    "h.yaxis.set_major_locator(MaxNLocator(integer = True))\n",
    "#setting titles and legend\n",
    "plt.title('Result in campaign according to durations of calls made to the client')\n",
    "plt.xlabel('Campaign Success')\n",
    "plt.ylabel('Call duration (seconds)')\n",
    "plt.legend(bbox_to_anchor = (1.5,0.7), title = 'Campaign Success')   "
   ]
  },
  {
   "cell_type": "code",
   "execution_count": null,
   "metadata": {},
   "outputs": [],
   "source": [
    "#new distribution of \"LastCall_Dur\" variable after cleaning\n",
    "fig2_2 = px.histogram(direct_marketing_LastCall_Dur['LastCall_Dur'], \n",
    "                    nbins=100, title='Last Call Duration Distribution',\n",
    "                   color_discrete_sequence=['#E31737'])\n",
    "fig2_2.update_layout(xaxis_title_text='Last Call Duration (seconds)',\n",
    "    bargap=0.05, # gap between bars of adjacent location coordinates\n",
    "    showlegend= False)\n",
    "fig2_2.show()"
   ]
  },
  {
   "cell_type": "code",
   "execution_count": null,
   "metadata": {
    "scrolled": false
   },
   "outputs": [],
   "source": [
    "#repeating above plots in a for loop for numerical variables \n",
    "#we don't use this in presentation because the y axis label would be less understandable\n",
    "for i in num_var[1:]:\n",
    "    Q1 = direct_marketing[i].quantile(0.25)\n",
    "    Q3 = direct_marketing[i].quantile(0.75)\n",
    "    IQR = Q3 - Q1\n",
    "    whis_low = (Q1 - 1.5 * IQR)\n",
    "    whis_high = (Q3 + 1.5 * IQR)\n",
    "    dm_num_var = direct_marketing.loc[direct_marketing[i] > whis_low]\n",
    "    dm_num_var = dm_num_var.loc[dm_num_var[i] < whis_high]\n",
    "    sns.catplot(data=dm_num_var,kind='box',x='Campaign_Success' ,hue='Campaign_Success',y = i)\n",
    "    plt.title('Success rate in campaign according to {} status'.format(i))\n",
    "    plt.xlabel('Campaign Success')\n",
    "    plt.ylabel(i)\n",
    "    plt.legend(bbox_to_anchor = (1.5,0.7), title = 'Campaign Success')   "
   ]
  },
  {
   "cell_type": "code",
   "execution_count": null,
   "metadata": {},
   "outputs": [],
   "source": []
  }
 ],
 "metadata": {
  "kernelspec": {
   "display_name": "Python 3",
   "language": "python",
   "name": "python3"
  },
  "language_info": {
   "codemirror_mode": {
    "name": "ipython",
    "version": 3
   },
   "file_extension": ".py",
   "mimetype": "text/x-python",
   "name": "python",
   "nbconvert_exporter": "python",
   "pygments_lexer": "ipython3",
   "version": "3.7.6"
  }
 },
 "nbformat": 4,
 "nbformat_minor": 5
}
